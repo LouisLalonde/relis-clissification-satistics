{
 "cells": [
  {
   "cell_type": "markdown",
   "metadata": {},
   "source": [
    "<h2>Relis R code analysis</h2>"
   ]
  },
  {
   "cell_type": "markdown",
   "metadata": {},
   "source": [
    "<h4><u>Parsing and beautifing data</u></h4>"
   ]
  },
  {
   "cell_type": "code",
   "execution_count": null,
   "metadata": {
    "vscode": {
     "languageId": "r"
    }
   },
   "outputs": [],
   "source": [
    "# Install and load the necessary packages\n",
    "packgs <- c(\"tidyverse\", \"qdapRegex\", \"data.table\", \"janitor\", \"dplyr\", \"ggplot2\", \"cowplot\", \"psych\")\n",
    "install.packages(setdiff(packgs, unique(data.frame(installed.packages())$Package)))\n",
    "lapply(packgs, library, character.only = TRUE)"
   ]
  },
  {
   "cell_type": "markdown",
   "metadata": {},
   "source": [
    "<i>Xtend will need to read the *RSC* *ReliS* project models with the ecore API</i>"
   ]
  },
  {
   "cell_type": "code",
   "execution_count": 36,
   "metadata": {
    "vscode": {
     "languageId": "r"
    }
   },
   "outputs": [
    {
     "name": "stdout",
     "output_type": "stream",
     "text": [
      "  nbr Key Title Publication.year Author.s Venue Source Search.Type Reviewer.s\n",
      "1   1  NA    NA             2016       NA    NA     NA          NA         NA\n",
      "2   2  NA    NA             2018       NA    NA     NA          NA         NA\n",
      "3   3  NA    NA             2016       NA    NA     NA          NA         NA\n",
      "4   4  NA    NA             2016       NA    NA     NA          NA         NA\n",
      "5   5  NA    NA             2019       NA    NA     NA          NA         NA\n",
      "6   6  NA    NA             2016       NA    NA     NA          NA         NA\n",
      "7   7  NA    NA             2017       NA    NA     NA          NA         NA\n",
      "8 943  NA    NA             2016       NA    NA     NA          NA         NA\n",
      "            Transformation.name                  Domain Transformation.Language\n",
      "1 Model-Driven Data Migration 2 Artificial Intelligence           ATL | Henshin\n",
      "2                         Test1    Collaborative system                 Henshin\n",
      "3                        testtt    Collaborative system                     QVT\n",
      "4                Model-Driven 2             Compilation                     ATL\n",
      "5                        Test 4             Compilation         Henshin | MoTiF\n",
      "6                      sdjkhksd Artificial Intelligence                 Henshin\n",
      "7                 Biderectional    Collaborative system                 Henshin\n",
      "8                                                                              \n",
      "  Source.language Target.language                Scope                  Intent\n",
      "1             UML            Java Exogenous | Outplace Composition | Migration\n",
      "2           SySML            Java              Inplace                        \n",
      "3             DSL            Java            Exogenous                        \n",
      "4             DSL             DSL              Inplace                        \n",
      "5           SySML            Java             Outplace                        \n",
      "6            Java             UML              Inplace               Migration\n",
      "7            Java            Java              Inplace                        \n",
      "8                                                                             \n",
      "  Intent.relation Industrial Bidirectional Number.of.citations Targeted.year\n",
      "1              NA        Yes           Yes                   2          2013\n",
      "2              NA         No           Yes                  10          2010\n",
      "3              NA         No           Yes                   5          2012\n",
      "4              NA        Yes            No                   8          2011\n",
      "5              NA        Yes           Yes                  80          2011\n",
      "6              NA         No            No                  60             0\n",
      "7              NA        Yes           Yes                  23          2015\n",
      "8              NA                                           NA            NA\n",
      "  Note\n",
      "1     \n",
      "2     \n",
      "3     \n",
      "4     \n",
      "5     \n",
      "6     \n",
      "7 test\n",
      "8     \n"
     ]
    }
   ],
   "source": [
    "# Importing data.csv\n",
    "relis_data <- read.csv(\"../data/relis_classification_CV.csv\", header = TRUE) # Replace this with the name of your imported data file\n",
    "print(relis_data)"
   ]
  },
  {
   "cell_type": "code",
   "execution_count": null,
   "metadata": {
    "vscode": {
     "languageId": "r"
    }
   },
   "outputs": [],
   "source": [
    "## Config file\n",
    "# Beautifying Title\n",
    "config_file <- data.frame(\n",
    "    Column_name = c(\"Transformation.name\", \"Domain\", \"Transformation.Language\", \"Source.language\", \"Target.language\", \"Scope\", \"Industrial\", \"Bidirectional\", \"Targeted.year\", \"Note\", \"Publication.year\", \"Venue\", \"Search.Type\"),\n",
    "    Scale = c(\"Text\", \"Nominal\", \"Nominal\", \"Nominal\", \"Nominal\", \"Nominal\", \"Nominal\", \"Nominal\", \"Continuous\", \"Text\", \"Continuous\", \"Nominal\", \"Nominal\")\n",
    ")\n",
    "print(config_file)"
   ]
  },
  {
   "cell_type": "code",
   "execution_count": null,
   "metadata": {
    "vscode": {
     "languageId": "r"
    }
   },
   "outputs": [],
   "source": [
    "# Split config file based on data type\n",
    "nominal_df <- subset(config_file, Scale == \"Nominal\")\n",
    "continuous_df <- subset(config_file, Scale == \"Continuous\")\n",
    "print(nominal_df)\n",
    "print(continuous_df)"
   ]
  },
  {
   "cell_type": "markdown",
   "metadata": {},
   "source": [
    "<h4><u>DESCRIPTIVE STATS</u></h4>"
   ]
  },
  {
   "cell_type": "markdown",
   "metadata": {},
   "source": [
    "<h5 style=\"color:orange\">Functions<h5>"
   ]
  },
  {
   "cell_type": "code",
   "execution_count": 25,
   "metadata": {
    "vscode": {
     "languageId": "r"
    }
   },
   "outputs": [],
   "source": [
    "# Function to extract current column and organize data\n",
    "beautify_data_desc <- function(data, config_file, i) {\n",
    "    # Split the values by the \"|\" character\n",
    "    split_values <- str_split(data[[config_file$Column_name[i]]], \"\\\\|\")\n",
    "\n",
    "    # Flatten the split values into a single vector and remove leading and trailing whitespaces\n",
    "    flattened_values <- str_trim(unlist(split_values))\n",
    "\n",
    "    # Generate the frequency table\n",
    "    table_to_add <- tabyl(flattened_values)\n",
    "\n",
    "    table_to_add[\"percent\"] <- lapply(table_to_add[\"percent\"], function(x) x * 100)\n",
    "    colnames(table_to_add) <- c(\"Value\", \"n\", \"Percentage\")\n",
    "\n",
    "    return(table_to_add)\n",
    "}\n",
    "\n",
    "beautify_data_desc_cont <- function(data, config_file, i) {\n",
    "    table_to_add <- data[, config_file$Column_name[i]]\n",
    "    table_to_add <- data.frame(data = table_to_add)\n",
    "\n",
    "    return(table_to_add)\n",
    "}\n",
    "\n",
    "# Function to generate bar plots\n",
    "generate_bar_plot <- function(data, config_file, i) {\n",
    "    table_to_add <- beautify_data_desc(data, config_file, i)\n",
    "\n",
    "    p <- ggplot(data = table_to_add, aes(x = Value, y = Percentage, fill = n)) +\n",
    "        geom_bar(stat = \"identity\") +\n",
    "        labs(title = paste(config_file$Title[[i]], \"~ Bar plot\"), x = config_file$Title[[i]], y = \"Percentage\") +\n",
    "        theme_minimal()\n",
    "\n",
    "    return(p)\n",
    "}\n",
    "\n",
    "# Function to generate box plots\n",
    "generate_box_plot <- function(data, config_file, i) {\n",
    "    table_to_add <- beautify_data_desc_cont(data, config_file, i)\n",
    "\n",
    "    p <- ggplot(table_to_add, aes(x = \"x\", y = data)) +\n",
    "        geom_boxplot() +\n",
    "        stat_summary(fun = \"mean\", geom = \"point\", shape = 8, size = 2, color = \"red\") +\n",
    "        labs(title = paste(config_file$Title[[i]], \"~ Box plot\"), y = config_file$Title[[i]], x = \"\") +\n",
    "        theme_minimal()\n",
    "\n",
    "    return(p)\n",
    "}\n",
    "\n",
    "# Function to generate violin plots\n",
    "generate_violin_plot <- function(data, config_file, i) {\n",
    "    table_to_add <- beautify_data_desc_cont(data, config_file, i)\n",
    "\n",
    "    p <- ggplot(table_to_add, aes(x = \"x\", y = data)) +\n",
    "        geom_violin() +\n",
    "        stat_summary(fun = \"mean\", geom = \"point\", shape = 8, size = 2, color = \"red\") +\n",
    "        labs(title = paste(config_file$Title[[i]], \"~ Violin plot\"), y = config_file$Title[[i]], x = \"\") +\n",
    "        theme_minimal()\n",
    "\n",
    "    return(p)\n",
    "}"
   ]
  },
  {
   "cell_type": "markdown",
   "metadata": {},
   "source": [
    "<h5 style=\"color:#F0F8FF\">Execution<h5>"
   ]
  },
  {
   "cell_type": "code",
   "execution_count": null,
   "metadata": {
    "vscode": {
     "languageId": "r"
    }
   },
   "outputs": [],
   "source": [
    "# Initialize lists to store frequency tables and bar plots for nominal data\n",
    "desc_distr_vector <- list()\n",
    "\n",
    "# Generate frequency table and bar plot for each variable\n",
    "for (i in 1:nrow(nominal_df)) {\n",
    "    # Frequency table\n",
    "    desc_distr_vector[[nominal_df$Column_name[i]]] <- beautify_data_desc(relis_data, nominal_df, i)\n",
    "}\n",
    "\n",
    "print(desc_distr_vector)\n"
   ]
  },
  {
   "cell_type": "code",
   "execution_count": null,
   "metadata": {
    "vscode": {
     "languageId": "r"
    }
   },
   "outputs": [],
   "source": [
    "bar_plot_vector <- list()\n",
    "\n",
    "for (i in 1:nrow(nominal_df)) {\n",
    "    # Bar plot\n",
    "    bar_plot_vector[[nominal_df$Column_name[i]]] <- generate_bar_plot(relis_data, nominal_df, i)\n",
    "}\n",
    "\n",
    "print(bar_plot_vector)"
   ]
  },
  {
   "cell_type": "code",
   "execution_count": 39,
   "metadata": {
    "vscode": {
     "languageId": "r"
    }
   },
   "outputs": [],
   "source": [
    "statistics_vector <- list()\n",
    "\n",
    "# Initialize lists to store frequency tables and plots for continuous data\n",
    "for (i in 1:nrow(continuous_df)) {\n",
    "    # Calculate descriptive statistics\n",
    "    statistics_vector[[continuous_df$Column_name[i]]] <- describe(beautify_data_desc_cont(relis_data, continuous_df, i))\n",
    "}\n",
    "\n",
    "print(statistics_vector)"
   ]
  },
  {
   "cell_type": "code",
   "execution_count": 31,
   "metadata": {
    "vscode": {
     "languageId": "r"
    }
   },
   "outputs": [],
   "source": [
    "box_plot_vector <- list()\n",
    "\n",
    "# Initialize lists to store frequency tables and plots for continuous data\n",
    "for (i in 1:nrow(continuous_df)) {\n",
    "    # Generate plots for each continuous variable\n",
    "    box_plot_vector[[continuous_df$Column_name[i]]] <- generate_box_plot(relis_data, continuous_df, i)\n",
    "}\n",
    "\n",
    "print(box_plot_vector)"
   ]
  },
  {
   "cell_type": "code",
   "execution_count": null,
   "metadata": {
    "vscode": {
     "languageId": "r"
    }
   },
   "outputs": [],
   "source": [
    "violin_plot_vector <- list()\n",
    "\n",
    "# Initialize lists to store frequency tables and plots for continuous data\n",
    "for (i in 1:nrow(continuous_df)) {\n",
    "    violin_plot_vector[[continuous_df$Column_name[i]]] <- generate_violin_plot(relis_data, continuous_df, i)\n",
    "}\n",
    "\n",
    "print(violin_plot_vector)"
   ]
  },
  {
   "cell_type": "markdown",
   "metadata": {},
   "source": [
    "<h4><u>EVOLUTION STATS</u></h4>"
   ]
  },
  {
   "cell_type": "markdown",
   "metadata": {},
   "source": [
    "<h5 style=\"color:orange\">Functions<h5>"
   ]
  },
  {
   "cell_type": "code",
   "execution_count": 42,
   "metadata": {
    "vscode": {
     "languageId": "r"
    }
   },
   "outputs": [],
   "source": [
    "# Available functions\n",
    "# Function to extract current column and organize data\n",
    "beautify_data_evo <- function(data, config_file, i) {\n",
    "    table_to_add <- data.frame(data$Publication.year, data[[config_file$Column_name[i]]])\n",
    "    colnames(table_to_add) <- c(\"Year\", \"Value\")\n",
    "    table_to_add <- subset(table_to_add, Value != \"\")\n",
    "\n",
    "    table_to_add <- table_to_add %>%\n",
    "        separate_rows(Value, sep = \"\\\\s*\\\\|\\\\s*\") %>%\n",
    "        count(Year, Value, name = \"Frequency\")\n",
    "\n",
    "    return(table_to_add)\n",
    "}\n",
    "\n",
    "# Function to generate distribution table\n",
    "expand_data <- function(data, config_file, i) {\n",
    "    table_to_add <- beautify_data_evo(data, config_file, i)\n",
    "\n",
    "    y <- pivot_wider(table_to_add, names_from = \"Value\", values_from = \"Frequency\") %>%\n",
    "        mutate_all(~ replace(., is.na(.), 0)) # Replace NA with 0\n",
    "\n",
    "    return(y)\n",
    "}\n",
    "\n",
    "# Function to generate evolution plots\n",
    "generate_evo_plot <- function(data, config_file, i) {\n",
    "    table_to_add <- beautify_data_evo(data, config_file, i)\n",
    "\n",
    "    shape_vector <- rep(1:6, length.out = length(unique(table_to_add$Value)))\n",
    "\n",
    "    p <- ggplot(data = table_to_add, aes(x = Year, y = Frequency, color = Value, shape = Value, group = Value, linetype = Value)) +\n",
    "        geom_line(stat = \"identity\", size = 1.1) +\n",
    "        geom_point(size = 2) +\n",
    "        scale_shape_manual(values = shape_vector) +\n",
    "        labs(title = paste(config_file$Title[[i]], \"~ Evolution plot\"), x = \"Year\", y = \"Frequency\") +\n",
    "        theme_minimal()\n",
    "\n",
    "    return(p)\n",
    "}"
   ]
  }
 ],
 "metadata": {
  "kernelspec": {
   "display_name": "R",
   "language": "R",
   "name": "ir"
  },
  "language_info": {
   "codemirror_mode": "r",
   "file_extension": ".r",
   "mimetype": "text/x-r-source",
   "name": "R",
   "pygments_lexer": "r",
   "version": "4.2.2"
  }
 },
 "nbformat": 4,
 "nbformat_minor": 2
}
