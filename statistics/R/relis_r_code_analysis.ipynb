{
 "cells": [
  {
   "cell_type": "markdown",
   "metadata": {},
   "source": [
    "<h2>Relis R code analysis</h2>"
   ]
  },
  {
   "cell_type": "markdown",
   "metadata": {},
   "source": [
    "<h4><u>Parsing and beautifing data</u></h4>"
   ]
  },
  {
   "cell_type": "code",
   "execution_count": null,
   "metadata": {
    "vscode": {
     "languageId": "r"
    }
   },
   "outputs": [],
   "source": [
    "# Install and load the necessary packages\n",
    "packgs <- c(\"tidyverse\", \"qdapRegex\", \"data.table\", \"janitor\", \"dplyr\", \"ggplot2\", \"cowplot\", \"psych\")\n",
    "install.packages(setdiff(packgs, unique(data.frame(installed.packages())$Package)))\n",
    "lapply(packgs, library, character.only = TRUE)"
   ]
  },
  {
   "cell_type": "markdown",
   "metadata": {},
   "source": [
    "<i>Xtend will need to read the *RSC* models with the ecore API</i>"
   ]
  },
  {
   "cell_type": "code",
   "execution_count": null,
   "metadata": {
    "vscode": {
     "languageId": "r"
    }
   },
   "outputs": [],
   "source": [
    "# Importing data.csv\n",
    "relis_data <- read.csv(\"../data/relis_classification_CV.csv\", header = TRUE) # Replace this with the name of your imported data file\n",
    "print(relis_data)"
   ]
  },
  {
   "cell_type": "code",
   "execution_count": 10,
   "metadata": {
    "vscode": {
     "languageId": "r"
    }
   },
   "outputs": [
    {
     "name": "stdout",
     "output_type": "stream",
     "text": [
      "               Column_name      Scale\n",
      "1      Transformation.name       Text\n",
      "2                   Domain    Nominal\n",
      "3  Transformation.Language    Nominal\n",
      "4          Source.language    Nominal\n",
      "5          Target.language    Nominal\n",
      "6                    Scope    Nominal\n",
      "7               Industrial    Nominal\n",
      "8            Bidirectional    Nominal\n",
      "9            Targeted.year Continuous\n",
      "10                    Note       Text\n",
      "11        Publication.year Continuous\n",
      "12                   Venue    Nominal\n",
      "13             Search.Type    Nominal\n"
     ]
    }
   ],
   "source": [
    "## Config file\n",
    "# Beautifying Title\n",
    "config_file <- data.frame(\n",
    "    Column_name = c(\"Transformation.name\", \"Domain\", \"Transformation.Language\", \"Source.language\", \"Target.language\", \"Scope\", \"Industrial\", \"Bidirectional\", \"Targeted.year\", \"Note\", \"Publication.year\", \"Venue\", \"Search.Type\"),\n",
    "    Scale = c(\"Text\", \"Nominal\", \"Nominal\", \"Nominal\", \"Nominal\", \"Nominal\", \"Nominal\", \"Nominal\", \"Continuous\", \"Text\", \"Continuous\", \"Nominal\", \"Nominal\")\n",
    ")\n",
    "print(config_file)"
   ]
  },
  {
   "cell_type": "code",
   "execution_count": 11,
   "metadata": {
    "vscode": {
     "languageId": "r"
    }
   },
   "outputs": [
    {
     "name": "stdout",
     "output_type": "stream",
     "text": [
      "               Column_name   Scale\n",
      "2                   Domain Nominal\n",
      "3  Transformation.Language Nominal\n",
      "4          Source.language Nominal\n",
      "5          Target.language Nominal\n",
      "6                    Scope Nominal\n",
      "7               Industrial Nominal\n",
      "8            Bidirectional Nominal\n",
      "12                   Venue Nominal\n",
      "13             Search.Type Nominal\n",
      "        Column_name      Scale\n",
      "9     Targeted.year Continuous\n",
      "11 Publication.year Continuous\n"
     ]
    }
   ],
   "source": [
    "# Split config file based on data type\n",
    "nominal_df <- subset(config_file, Scale == \"Nominal\")\n",
    "continuous_df <- subset(config_file, Scale == \"Continuous\")\n",
    "print(nominal_df)\n",
    "print(continuous_df)"
   ]
  },
  {
   "cell_type": "markdown",
   "metadata": {},
   "source": [
    "<h4><u>DESCRIPTIVE STATS</u></h4>"
   ]
  },
  {
   "cell_type": "markdown",
   "metadata": {},
   "source": [
    "<h5 style=\"color:orange\">Functions<h5>"
   ]
  },
  {
   "cell_type": "code",
   "execution_count": null,
   "metadata": {
    "vscode": {
     "languageId": "r"
    }
   },
   "outputs": [],
   "source": [
    "# Function to extract current column and organize data\n",
    "beautify_data_desc <- function(data, config_file, i) {\n",
    "    # Split the values by the \"|\" character\n",
    "    split_values <- str_split(data[[config_file$Column_name[i]]], \"\\\\|\")\n",
    "\n",
    "    # Flatten the split values into a single vector and remove leading and trailing whitespaces\n",
    "    flattened_values <- str_trim(unlist(split_values))\n",
    "\n",
    "    # Generate the frequency table\n",
    "    table_to_add <- tabyl(flattened_values)\n",
    "\n",
    "    table_to_add[\"percent\"] <- lapply(table_to_add[\"percent\"], function(x) x * 100)\n",
    "    colnames(table_to_add) <- c(\"Value\", \"n\", \"Percentage\")\n",
    "\n",
    "    return(table_to_add)\n",
    "}\n",
    "\n",
    "beautify_data_desc_cont <- function(data, config_file, i) {\n",
    "    table_to_add <- data[, config_file$Column_name[i]]\n",
    "    table_to_add <- data.frame(data = table_to_add)\n",
    "\n",
    "    return(table_to_add)\n",
    "}\n",
    "\n",
    "# Function to generate bar plots\n",
    "generate_bar_plot <- function(data, config_file, i) {\n",
    "    table_to_add <- beautify_data_desc(data, config_file, i)\n",
    "\n",
    "    p <- ggplot(data = table_to_add, aes(x = Value, y = Percentage, fill = n)) +\n",
    "        geom_bar(stat = \"identity\") +\n",
    "        labs(title = paste(config_file$Title[[i]], \"~ Bar plot\"), x = config_file$Title[[i]], y = \"Percentage\") +\n",
    "        theme_minimal()\n",
    "\n",
    "    return(p)\n",
    "}\n",
    "\n",
    "# Function to generate box plots\n",
    "generate_box_plot <- function(data, config_file, i) {\n",
    "    table_to_add <- beautify_data_desc_cont(data, config_file, i)\n",
    "\n",
    "    p <- ggplot(table_to_add, aes(x = \"x\", y = data)) +\n",
    "        geom_boxplot() +\n",
    "        stat_summary(fun = \"mean\", geom = \"point\", shape = 8, size = 2, color = \"red\") +\n",
    "        labs(title = paste(config_file$Title[[i]], \"~ Box plot\"), y = config_file$Title[[i]], x = \"\") +\n",
    "        theme_minimal()\n",
    "\n",
    "    return(p)\n",
    "}\n",
    "\n",
    "# Function to generate violin plots\n",
    "generate_violin_plot <- function(data, config_file, i) {\n",
    "    table_to_add <- beautify_data_desc_cont(data, config_file, i)\n",
    "\n",
    "    p <- ggplot(table_to_add, aes(x = \"x\", y = data)) +\n",
    "        geom_violin() +\n",
    "        stat_summary(fun = \"mean\", geom = \"point\", shape = 8, size = 2, color = \"red\") +\n",
    "        labs(title = paste(config_file$Title[[i]], \"~ Violin plot\"), y = config_file$Title[[i]], x = \"\") +\n",
    "        theme_minimal()\n",
    "\n",
    "    return(p)\n",
    "}"
   ]
  },
  {
   "cell_type": "markdown",
   "metadata": {},
   "source": [
    "<h5 style=\"color:#F0F8FF\">Execution<h5>"
   ]
  },
  {
   "cell_type": "code",
   "execution_count": null,
   "metadata": {
    "vscode": {
     "languageId": "r"
    }
   },
   "outputs": [],
   "source": [
    "# Initialize lists to store frequency tables and bar plots for nominal data\n",
    "desc_distr_vector <- list()\n",
    "\n",
    "# Generate frequency table and bar plot for each variable\n",
    "for (i in 1:nrow(nominal_df)) {\n",
    "    # Frequency table\n",
    "    desc_distr_vector[[nominal_df$Column_name[i]]] <- beautify_data_desc(relis_data, nominal_df, i)\n",
    "}\n",
    "\n",
    "print(desc_distr_vector)\n"
   ]
  },
  {
   "cell_type": "code",
   "execution_count": null,
   "metadata": {
    "vscode": {
     "languageId": "r"
    }
   },
   "outputs": [],
   "source": [
    "bar_plot_vector <- list()\n",
    "\n",
    "for (i in 1:nrow(nominal_df)) {\n",
    "    # Bar plot\n",
    "    bar_plot_vector[[nominal_df$Column_name[i]]] <- generate_bar_plot(relis_data, nominal_df, i)\n",
    "}\n",
    "\n",
    "print(bar_plot_vector)"
   ]
  },
  {
   "cell_type": "code",
   "execution_count": null,
   "metadata": {
    "vscode": {
     "languageId": "r"
    }
   },
   "outputs": [],
   "source": [
    "statistics_vector <- list()\n",
    "\n",
    "# Initialize lists to store frequency tables and plots for continuous data\n",
    "for (i in 1:nrow(continuous_df)) {\n",
    "    # Calculate descriptive statistics\n",
    "    statistics_vector[[continuous_df$Column_name[i]]] <- describe(beautify_data_desc_cont(relis_data, continuous_df, i))\n",
    "}\n",
    "\n",
    "print(statistics_vector)"
   ]
  },
  {
   "cell_type": "code",
   "execution_count": null,
   "metadata": {
    "vscode": {
     "languageId": "r"
    }
   },
   "outputs": [],
   "source": [
    "box_plot_vector <- list()\n",
    "\n",
    "# Initialize lists to store frequency tables and plots for continuous data\n",
    "for (i in 1:nrow(continuous_df)) {\n",
    "    # Generate plots for each continuous variable\n",
    "    box_plot_vector[[continuous_df$Column_name[i]]] <- generate_box_plot(relis_data, continuous_df, i)\n",
    "}\n",
    "\n",
    "print(box_plot_vector)"
   ]
  },
  {
   "cell_type": "code",
   "execution_count": null,
   "metadata": {
    "vscode": {
     "languageId": "r"
    }
   },
   "outputs": [],
   "source": [
    "violin_plot_vector <- list()\n",
    "\n",
    "# Initialize lists to store frequency tables and plots for continuous data\n",
    "for (i in 1:nrow(continuous_df)) {\n",
    "    violin_plot_vector[[continuous_df$Column_name[i]]] <- generate_violin_plot(relis_data, continuous_df, i)\n",
    "}\n",
    "\n",
    "print(violin_plot_vector)"
   ]
  },
  {
   "cell_type": "markdown",
   "metadata": {},
   "source": [
    "<h4><u>EVOLUTION STATS</u></h4>"
   ]
  },
  {
   "cell_type": "markdown",
   "metadata": {},
   "source": [
    "<h5 style=\"color:orange\">Functions<h5>"
   ]
  },
  {
   "cell_type": "code",
   "execution_count": 13,
   "metadata": {
    "vscode": {
     "languageId": "r"
    }
   },
   "outputs": [],
   "source": [
    "# Available functions\n",
    "# Function to extract current column and organize data\n",
    "beautify_data_evo <- function(data, config_file, i) {\n",
    "    table_to_add <- data.frame(data$Publication.year, data[[config_file$Column_name[i]]])\n",
    "    colnames(table_to_add) <- c(\"Year\", \"Value\")\n",
    "    table_to_add <- subset(table_to_add, Value != \"\")\n",
    "\n",
    "    table_to_add <- table_to_add %>%\n",
    "        separate_rows(Value, sep = \"\\\\s*\\\\|\\\\s*\") %>%\n",
    "        count(Year, Value, name = \"Frequency\")\n",
    "\n",
    "    return(table_to_add)\n",
    "}\n",
    "\n",
    "# Function to generate distribution table\n",
    "expand_data <- function(data, config_file, i) {\n",
    "    table_to_add <- beautify_data_evo(data, config_file, i)\n",
    "\n",
    "    y <- pivot_wider(table_to_add, names_from = \"Value\", values_from = \"Frequency\") %>%\n",
    "        mutate_all(~ replace(., is.na(.), 0)) # Replace NA with 0\n",
    "\n",
    "    return(y)\n",
    "}\n",
    "\n",
    "# Function to generate evolution plots\n",
    "generate_evo_plot <- function(data, config_file, i) {\n",
    "    table_to_add <- beautify_data_evo(data, config_file, i)\n",
    "\n",
    "    shape_vector <- rep(1:6, length.out = length(unique(table_to_add$Value)))\n",
    "\n",
    "    p <- ggplot(data = table_to_add, aes(x = Year, y = Frequency, color = Value, shape = Value, group = Value, linetype = Value)) +\n",
    "        geom_line(stat = \"identity\", size = 1.1) +\n",
    "        geom_point(size = 2) +\n",
    "        scale_shape_manual(values = shape_vector) +\n",
    "        labs(title = paste(config_file$Title[[i]], \"~ Evolution plot\"), x = \"Year\", y = \"Frequency\") +\n",
    "        theme_minimal()\n",
    "\n",
    "    return(p)\n",
    "}"
   ]
  },
  {
   "cell_type": "markdown",
   "metadata": {},
   "source": [
    "<h5 style=\"color:#F0F8FF\">Execution<h5>"
   ]
  },
  {
   "cell_type": "code",
   "execution_count": null,
   "metadata": {
    "vscode": {
     "languageId": "r"
    }
   },
   "outputs": [],
   "source": [
    "evo_distr_vector <- list()\n",
    "\n",
    "for (i in 1:nrow(nominal_df)) {\n",
    "    # Frequency table\n",
    "    evo_distr_vector[[nominal_df$Column_name[i]]] <- expand_data(relis_data, nominal_df, i)\n",
    "}\n",
    "\n",
    "print(evo_distr_vector)"
   ]
  },
  {
   "cell_type": "code",
   "execution_count": null,
   "metadata": {
    "vscode": {
     "languageId": "r"
    }
   },
   "outputs": [],
   "source": [
    "evolution_plot_vector <- list()\n",
    "\n",
    "for (i in 1:nrow(nominal_df)) {\n",
    "    # Evolution plots\n",
    "    evolution_plot_vector[[nominal_df$Column_name[i]]] <- generate_evo_plot(relis_data, nominal_df, i)\n",
    "}\n",
    "\n",
    "print(evolution_plot_vector)"
   ]
  },
  {
   "cell_type": "markdown",
   "metadata": {},
   "source": [
    "<h4><u>COMPARATIVE STATS</u></h4>"
   ]
  },
  {
   "cell_type": "markdown",
   "metadata": {},
   "source": [
    "<h5 style=\"color:orange\">Functions<h5>"
   ]
  },
  {
   "cell_type": "code",
   "execution_count": 19,
   "metadata": {
    "vscode": {
     "languageId": "r"
    }
   },
   "outputs": [],
   "source": [
    "# Available functions\n",
    "# Function to subset required data\n",
    "beautify_data <- function(data, config_file, i, j) {\n",
    "    subset_data <- data[, c(config_file$Column_name[i], config_file$Column_name[j])]\n",
    "    colnames(subset_data) <- c(\"variable_1\", \"variable_2\")\n",
    "\n",
    "    subset_data <- subset_data[subset_data$variable_1 != \"\" & subset_data$variable_2 != \"\", ]\n",
    "\n",
    "    subset_data <- subset_data %>%\n",
    "        separate_rows(variable_1, sep = \"\\\\s*\\\\|\\\\s*\") %>%\n",
    "        separate_rows(variable_2, sep = \"\\\\s*\\\\|\\\\s*\") %>%\n",
    "        count(variable_1, variable_2, name = \"Freq\")\n",
    "\n",
    "    return(subset_data)\n",
    "}\n",
    "\n",
    "# Function to generate stacked bar plots\n",
    "generate_stacked_bar_plot <- function(data, config_file, i, j) {\n",
    "    subset_data <- beautify_data(data, config_file, i, j)\n",
    "\n",
    "    p <- ggplot(subset_data, aes(x = variable_1, y = Freq, fill = variable_2)) +\n",
    "        geom_bar(stat = \"identity\") +\n",
    "        labs(\n",
    "            title = paste(config_file$Title[i], \"and\", config_file$Title[j], \"~ Stacked bar plot\"),\n",
    "            x = config_file$Title[i], y = \"Frequency\", fill = config_file$Title[j]\n",
    "        ) +\n",
    "        theme_minimal()\n",
    "\n",
    "    return(p)\n",
    "}\n",
    "\n",
    "# Function to generate grouped bar plots\n",
    "generate_grouped_bar_plot <- function(data, config_file, i, j) {\n",
    "    subset_data <- beautify_data(data, config_file, i, j)\n",
    "\n",
    "    p <- ggplot(subset_data, aes(x = variable_1, y = Freq, fill = variable_2)) +\n",
    "        geom_bar(stat = \"identity\", position = \"dodge\") +\n",
    "        labs(\n",
    "            title = paste(config_file$Title[i], \"and\", config_file$Title[j], \"~ Grouped bar plot\"),\n",
    "            x = config_file$Title[i], y = \"Frequency\", fill = config_file$Title[j]\n",
    "        ) +\n",
    "        theme_minimal()\n",
    "\n",
    "    return(p)\n",
    "}\n",
    "\n",
    "# Function to generate bubble charts\n",
    "generate_bubble_chart <- function(data, config_file, i, j) {\n",
    "    subset_data <- beautify_data(data, config_file, i, j)\n",
    "\n",
    "    p <- ggplot(subset_data, aes(x = variable_1, y = variable_2, size = Freq)) +\n",
    "        geom_point() +\n",
    "        labs(\n",
    "            title = paste(config_file$Title[i], \"and\", config_file$Title[j], \"~ Bubble Chart\"),\n",
    "            x = config_file$Title[i], y = config_file$Title[j], size = \"Frequency\"\n",
    "        ) +\n",
    "        theme_minimal()\n",
    "\n",
    "    return(p)\n",
    "}\n",
    "\n",
    "\n",
    "\n",
    "# Function to conduct Fisher's exact test\n",
    "fisher_exact_test <- function(data, config_file, i, j) {\n",
    "    subset_data <- beautify_data(data, config_file, i, j)\n",
    "    if (nrow(subset_data) == 1 && is.na(subset_data$variable_1) && is.na(subset_data$variable_2)) {\n",
    "        return(NA)\n",
    "    }\n",
    "\n",
    "    contingency_table <- xtabs(Freq ~ variable_1 + variable_2, data = subset_data)\n",
    "\n",
    "    fisher_exact_test_result <- fisher.test(contingency_table, simulate.p.value = TRUE)\n",
    "\n",
    "    return(fisher_exact_test_result)\n",
    "}\n",
    "\n",
    "# Function to conduct Shapiro Wilk's test\n",
    "shapiro_wilk_test <- function(data, config_file, i) {\n",
    "    subset_data <- data[[config_file$Column_name[i]]]\n",
    "    shapiro_result <- shapiro.test(subset_data)\n",
    "\n",
    "    return(shapiro_result)\n",
    "}\n",
    "\n",
    "# Function to conduct Spearman's correlation test\n",
    "spearman_cor_test <- function(data, config_file, i, j) {\n",
    "    column_1 <- data[[config_file$Column_name[i]]]\n",
    "    column_2 <- data[[config_file$Column_name[j]]]\n",
    "\n",
    "    spearman_result <- cor.test(column_1, column_2, method = \"spearman\", exact = FALSE)\n",
    "\n",
    "    return(spearman_result)\n",
    "}\n",
    "\n",
    "# Function to conduct Pearson's correlation test\n",
    "pearson_cor_test <- function(data, config_file, i, j) {\n",
    "    column_1 <- data[[config_file$Column_name[i]]]\n",
    "    column_2 <- data[[config_file$Column_name[j]]]\n",
    "\n",
    "    pearson_result <- cor.test(column_1, column_2, method = \"pearson\")\n",
    "\n",
    "    return(pearson_result)\n",
    "}"
   ]
  },
  {
   "cell_type": "markdown",
   "metadata": {},
   "source": [
    "<h5 style=\"color:#F0F8FF\">Execution<h5>"
   ]
  },
  {
   "cell_type": "code",
   "execution_count": 23,
   "metadata": {
    "vscode": {
     "languageId": "r"
    }
   },
   "outputs": [],
   "source": [
    "comp_distr_vector <- list()\n",
    "\n",
    "# Generate plots for all possible combinations of nominal data\n",
    "for (i in 1:nrow(nominal_df)) {\n",
    "    comp_distr_vector[[nominal_df$Column_name[i]]] <- list()\n",
    "\n",
    "    for (j in 1:nrow(nominal_df)) {\n",
    "        if (j != i) {\n",
    "            comp_distr_vector[[nominal_df$Column_name[i]]][[nominal_df$Column_name[j]]] <- beautify_data(relis_data, nominal_df, i, j)\n",
    "        }\n",
    "    }\n",
    "}"
   ]
  },
  {
   "cell_type": "code",
   "execution_count": null,
   "metadata": {
    "vscode": {
     "languageId": "r"
    }
   },
   "outputs": [],
   "source": [
    "stacked_bar_plot_vector <- list()"
   ]
  },
  {
   "cell_type": "code",
   "execution_count": null,
   "metadata": {
    "vscode": {
     "languageId": "r"
    }
   },
   "outputs": [],
   "source": [
    "grouped_bar_plot_vector <- list()"
   ]
  },
  {
   "cell_type": "code",
   "execution_count": null,
   "metadata": {
    "vscode": {
     "languageId": "r"
    }
   },
   "outputs": [],
   "source": [
    "bubble_chart_vector <- list()"
   ]
  },
  {
   "cell_type": "code",
   "execution_count": null,
   "metadata": {
    "vscode": {
     "languageId": "r"
    }
   },
   "outputs": [],
   "source": [
    "fisher_exact_test_vector <- list()"
   ]
  },
  {
   "cell_type": "code",
   "execution_count": 20,
   "metadata": {
    "vscode": {
     "languageId": "r"
    }
   },
   "outputs": [],
   "source": [
    "shapiro_wilk_test_vector <- list()\n",
    "\n",
    "for (i in 1:nrow(continuous_df)) {\n",
    "    shapiro_wilk_test_vector[[continuous_df$Column_name[i]]] <- shapiro_wilk_test(relis_data, continuous_df, i)\n",
    "}"
   ]
  },
  {
   "cell_type": "code",
   "execution_count": 21,
   "metadata": {
    "vscode": {
     "languageId": "r"
    }
   },
   "outputs": [],
   "source": [
    "pearson_cor_test_vector <- list()"
   ]
  },
  {
   "cell_type": "code",
   "execution_count": 22,
   "metadata": {
    "vscode": {
     "languageId": "r"
    }
   },
   "outputs": [],
   "source": [
    "spearman_cor_test_vector <- list()"
   ]
  }
 ],
 "metadata": {
  "kernelspec": {
   "display_name": "R",
   "language": "R",
   "name": "ir"
  },
  "language_info": {
   "codemirror_mode": "r",
   "file_extension": ".r",
   "mimetype": "text/x-r-source",
   "name": "R",
   "pygments_lexer": "r",
   "version": "4.2.2"
  }
 },
 "nbformat": 4,
 "nbformat_minor": 2
}
